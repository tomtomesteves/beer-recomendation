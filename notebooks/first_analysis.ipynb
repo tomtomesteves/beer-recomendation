{
 "cells": [
  {
   "cell_type": "code",
   "execution_count": 1,
   "metadata": {},
   "outputs": [],
   "source": [
    "import boto3\n",
    "\n",
    "import numpy as np\n",
    "import pandas as pd\n"
   ]
  },
  {
   "cell_type": "code",
   "execution_count": 3,
   "metadata": {},
   "outputs": [],
   "source": [
    "s3 = boto3.client('s3')\n",
    "s3.download_file('beer-raw', 'beers.csv', 'beers.csv')\n",
    "s3.download_file('beer-raw', 'reviews.csv', 'reviews.csv')"
   ]
  },
  {
   "cell_type": "code",
   "execution_count": 4,
   "metadata": {},
   "outputs": [],
   "source": [
    "df_beers = pd.read_csv(\"beers.csv\")\n",
    "df_reviews = pd.read_csv(\"reviews.csv\")"
   ]
  },
  {
   "cell_type": "markdown",
   "metadata": {},
   "source": [
    "## Analise de cervejas"
   ]
  },
  {
   "cell_type": "markdown",
   "metadata": {},
   "source": [
    "### Todas as cervejas "
   ]
  },
  {
   "cell_type": "code",
   "execution_count": 5,
   "metadata": {},
   "outputs": [
    {
     "name": "stdout",
     "output_type": "stream",
     "text": [
      "<class 'pandas.core.frame.DataFrame'>\n",
      "RangeIndex: 11312 entries, 0 to 11311\n",
      "Data columns (total 18 columns):\n",
      " #   Column             Non-Null Count  Dtype  \n",
      "---  ------             --------------  -----  \n",
      " 0   beer_name          11312 non-null  object \n",
      " 1   brewerys           11311 non-null  object \n",
      " 2   beer_type          11302 non-null  object \n",
      " 3   alcohol_volume     11312 non-null  object \n",
      " 4   ingredientes       2168 non-null   object \n",
      " 5   is_active          11312 non-null  object \n",
      " 6   is_sazonal         11312 non-null  object \n",
      " 7   rec_temperature    9088 non-null   object \n",
      " 8   rec_glass          9123 non-null   object \n",
      " 9   description        11312 non-null  object \n",
      " 10  average_rating     10928 non-null  float64\n",
      " 11  smelling_rating    10928 non-null  object \n",
      " 12  Appearance_rating  10928 non-null  object \n",
      " 13  flavor_rating      10928 non-null  object \n",
      " 14  Sensation_rating   10928 non-null  object \n",
      " 15  ensemble_rating    10928 non-null  object \n",
      " 16  number_ratings     11312 non-null  int64  \n",
      " 17  country            11312 non-null  object \n",
      "dtypes: float64(1), int64(1), object(16)\n",
      "memory usage: 1.6+ MB\n"
     ]
    }
   ],
   "source": [
    "df_beers.info()"
   ]
  },
  {
   "cell_type": "code",
   "execution_count": 6,
   "metadata": {},
   "outputs": [
    {
     "data": {
      "text/html": [
       "<div>\n",
       "<style scoped>\n",
       "    .dataframe tbody tr th:only-of-type {\n",
       "        vertical-align: middle;\n",
       "    }\n",
       "\n",
       "    .dataframe tbody tr th {\n",
       "        vertical-align: top;\n",
       "    }\n",
       "\n",
       "    .dataframe thead th {\n",
       "        text-align: right;\n",
       "    }\n",
       "</style>\n",
       "<table border=\"1\" class=\"dataframe\">\n",
       "  <thead>\n",
       "    <tr style=\"text-align: right;\">\n",
       "      <th></th>\n",
       "      <th>beer_name</th>\n",
       "      <th>brewerys</th>\n",
       "      <th>beer_type</th>\n",
       "      <th>alcohol_volume</th>\n",
       "      <th>ingredientes</th>\n",
       "      <th>is_active</th>\n",
       "      <th>is_sazonal</th>\n",
       "      <th>rec_temperature</th>\n",
       "      <th>rec_glass</th>\n",
       "      <th>description</th>\n",
       "      <th>average_rating</th>\n",
       "      <th>smelling_rating</th>\n",
       "      <th>Appearance_rating</th>\n",
       "      <th>flavor_rating</th>\n",
       "      <th>Sensation_rating</th>\n",
       "      <th>ensemble_rating</th>\n",
       "      <th>number_ratings</th>\n",
       "      <th>country</th>\n",
       "    </tr>\n",
       "  </thead>\n",
       "  <tbody>\n",
       "    <tr>\n",
       "      <th>0</th>\n",
       "      <td>Kaufbeuren Bayerisch Export</td>\n",
       "      <td>Aktienbrauerei Kaufbeuren</td>\n",
       "      <td>Munich Helles</td>\n",
       "      <td>5.2% ABV</td>\n",
       "      <td>lúpulo Hallertau: Herkules, Hallertau Hallerta...</td>\n",
       "      <td>SIM</td>\n",
       "      <td>Não é sazonal</td>\n",
       "      <td>5-7 °C</td>\n",
       "      <td>Caneca</td>\n",
       "      <td>\\nA cerveja exportação é um corpo cheio de cer...</td>\n",
       "      <td>3.8</td>\n",
       "      <td>6/10</td>\n",
       "      <td>5/5</td>\n",
       "      <td>16/20</td>\n",
       "      <td>4/5</td>\n",
       "      <td>7/10</td>\n",
       "      <td>1</td>\n",
       "      <td>alemanha</td>\n",
       "    </tr>\n",
       "    <tr>\n",
       "      <th>1</th>\n",
       "      <td>ACS Beer Citrus IPA</td>\n",
       "      <td>ACS Beer</td>\n",
       "      <td>Session IPA</td>\n",
       "      <td>4.8% ABV</td>\n",
       "      <td>NaN</td>\n",
       "      <td>SIM</td>\n",
       "      <td>Não é sazonal</td>\n",
       "      <td>NaN</td>\n",
       "      <td>NaN</td>\n",
       "      <td>\\nA receita da ACS Beer Citrus segue o estilo ...</td>\n",
       "      <td>3.6</td>\n",
       "      <td>7/10</td>\n",
       "      <td>4/5</td>\n",
       "      <td>14/20</td>\n",
       "      <td>4/5</td>\n",
       "      <td>7/10</td>\n",
       "      <td>1</td>\n",
       "      <td>brasil</td>\n",
       "    </tr>\n",
       "    <tr>\n",
       "      <th>2</th>\n",
       "      <td>Agua Mala Mako Pale Ale</td>\n",
       "      <td>Agua Mala</td>\n",
       "      <td>American Pale Ale</td>\n",
       "      <td>3.4% ABV</td>\n",
       "      <td>NaN</td>\n",
       "      <td>SIM</td>\n",
       "      <td>Não é sazonal</td>\n",
       "      <td>8-12 °C</td>\n",
       "      <td>Pint</td>\n",
       "      <td>\\nColor trigo dorado. En nariz predominan arom...</td>\n",
       "      <td>3.3</td>\n",
       "      <td>7/10</td>\n",
       "      <td>3/5</td>\n",
       "      <td>13/20</td>\n",
       "      <td>3/5</td>\n",
       "      <td>7/10</td>\n",
       "      <td>1</td>\n",
       "      <td>mexico</td>\n",
       "    </tr>\n",
       "    <tr>\n",
       "      <th>3</th>\n",
       "      <td>Against the Grain London Balling</td>\n",
       "      <td>Against The Grain Brewery &amp; Smokehouse</td>\n",
       "      <td>Barley Wine</td>\n",
       "      <td>12.5% ABV</td>\n",
       "      <td>NaN</td>\n",
       "      <td>SIM</td>\n",
       "      <td>Não é sazonal</td>\n",
       "      <td>13-15 °C</td>\n",
       "      <td>Conhaque</td>\n",
       "      <td>\\nEnglish style barleywine aged in Angel's Env...</td>\n",
       "      <td>3.8</td>\n",
       "      <td>8/10</td>\n",
       "      <td>5/5</td>\n",
       "      <td>15/20</td>\n",
       "      <td>3/5</td>\n",
       "      <td>7/10</td>\n",
       "      <td>1</td>\n",
       "      <td>estados-unidos</td>\n",
       "    </tr>\n",
       "    <tr>\n",
       "      <th>4</th>\n",
       "      <td>Agua Mala Astillero IPA</td>\n",
       "      <td>Agua Mala</td>\n",
       "      <td>Imperial / Double IPA</td>\n",
       "      <td>7.1% ABV</td>\n",
       "      <td>NaN</td>\n",
       "      <td>SIM</td>\n",
       "      <td>Não é sazonal</td>\n",
       "      <td>8-12 °C</td>\n",
       "      <td>Pint</td>\n",
       "      <td>\\nDe color dorado cobrizo. Aromas florales y l...</td>\n",
       "      <td>4.0</td>\n",
       "      <td>7/10</td>\n",
       "      <td>4/5</td>\n",
       "      <td>16/20</td>\n",
       "      <td>5/5</td>\n",
       "      <td>8/10</td>\n",
       "      <td>1</td>\n",
       "      <td>mexico</td>\n",
       "    </tr>\n",
       "  </tbody>\n",
       "</table>\n",
       "</div>"
      ],
      "text/plain": [
       "                           beer_name                                brewerys  \\\n",
       "0        Kaufbeuren Bayerisch Export               Aktienbrauerei Kaufbeuren   \n",
       "1                ACS Beer Citrus IPA                                ACS Beer   \n",
       "2            Agua Mala Mako Pale Ale                               Agua Mala   \n",
       "3  Against the Grain London Balling   Against The Grain Brewery & Smokehouse   \n",
       "4            Agua Mala Astillero IPA                               Agua Mala   \n",
       "\n",
       "               beer_type alcohol_volume  \\\n",
       "0          Munich Helles       5.2% ABV   \n",
       "1            Session IPA       4.8% ABV   \n",
       "2      American Pale Ale       3.4% ABV   \n",
       "3            Barley Wine      12.5% ABV   \n",
       "4  Imperial / Double IPA       7.1% ABV   \n",
       "\n",
       "                                        ingredientes is_active     is_sazonal  \\\n",
       "0  lúpulo Hallertau: Herkules, Hallertau Hallerta...       SIM  Não é sazonal   \n",
       "1                                                NaN       SIM  Não é sazonal   \n",
       "2                                                NaN       SIM  Não é sazonal   \n",
       "3                                                NaN       SIM  Não é sazonal   \n",
       "4                                                NaN       SIM  Não é sazonal   \n",
       "\n",
       "  rec_temperature rec_glass  \\\n",
       "0          5-7 °C    Caneca   \n",
       "1             NaN       NaN   \n",
       "2         8-12 °C      Pint   \n",
       "3        13-15 °C  Conhaque   \n",
       "4         8-12 °C      Pint   \n",
       "\n",
       "                                         description  average_rating  \\\n",
       "0  \\nA cerveja exportação é um corpo cheio de cer...             3.8   \n",
       "1  \\nA receita da ACS Beer Citrus segue o estilo ...             3.6   \n",
       "2  \\nColor trigo dorado. En nariz predominan arom...             3.3   \n",
       "3  \\nEnglish style barleywine aged in Angel's Env...             3.8   \n",
       "4  \\nDe color dorado cobrizo. Aromas florales y l...             4.0   \n",
       "\n",
       "  smelling_rating Appearance_rating flavor_rating Sensation_rating  \\\n",
       "0            6/10               5/5         16/20              4/5   \n",
       "1            7/10               4/5         14/20              4/5   \n",
       "2            7/10               3/5         13/20              3/5   \n",
       "3            8/10               5/5         15/20              3/5   \n",
       "4            7/10               4/5         16/20              5/5   \n",
       "\n",
       "  ensemble_rating  number_ratings         country  \n",
       "0            7/10               1        alemanha  \n",
       "1            7/10               1          brasil  \n",
       "2            7/10               1          mexico  \n",
       "3            7/10               1  estados-unidos  \n",
       "4            8/10               1          mexico  "
      ]
     },
     "execution_count": 6,
     "metadata": {},
     "output_type": "execute_result"
    }
   ],
   "source": [
    "df_beers.head()"
   ]
  },
  {
   "cell_type": "code",
   "execution_count": 33,
   "metadata": {},
   "outputs": [
    {
     "data": {
      "text/plain": [
       "11302"
      ]
     },
     "execution_count": 33,
     "metadata": {},
     "output_type": "execute_result"
    }
   ],
   "source": [
    "df_beers.beer_type.count()"
   ]
  },
  {
   "cell_type": "code",
   "execution_count": 24,
   "metadata": {},
   "outputs": [
    {
     "data": {
      "text/plain": [
       "<AxesSubplot:xlabel='beer_type'>"
      ]
     },
     "execution_count": 24,
     "metadata": {},
     "output_type": "execute_result"
    },
    {
     "data": {
      "image/png": "[encoded data removed]",
      "text/plain": [
       "<Figure size 1080x720 with 1 Axes>"
      ]
     },
     "metadata": {
      "needs_background": "light"
     },
     "output_type": "display_data"
    }
   ],
   "source": [
    "df_beers.groupby(\"beer_type\")[\"beer_name\"].count().plot.bar(figsize=(15,10))"
   ]
  },
  {
   "cell_type": "code",
   "execution_count": 25,
   "metadata": {},
   "outputs": [
    {
     "data": {
      "text/plain": [
       "116.51546391752578"
      ]
     },
     "execution_count": 25,
     "metadata": {},
     "output_type": "execute_result"
    }
   ],
   "source": [
    "df_beers.groupby(\"beer_type\")[\"beer_name\"].count().mean()"
   ]
  },
  {
   "cell_type": "markdown",
   "metadata": {},
   "source": [
    "### Cervejas brasileiras"
   ]
  },
  {
   "cell_type": "code",
   "execution_count": 31,
   "metadata": {},
   "outputs": [],
   "source": [
    "df_beers_brazil = df_beers[df_beers.country == \"brasil\"]"
   ]
  },
  {
   "cell_type": "code",
   "execution_count": 34,
   "metadata": {},
   "outputs": [
    {
     "data": {
      "text/html": [
       "<div>\n",
       "<style scoped>\n",
       "    .dataframe tbody tr th:only-of-type {\n",
       "        vertical-align: middle;\n",
       "    }\n",
       "\n",
       "    .dataframe tbody tr th {\n",
       "        vertical-align: top;\n",
       "    }\n",
       "\n",
       "    .dataframe thead th {\n",
       "        text-align: right;\n",
       "    }\n",
       "</style>\n",
       "<table border=\"1\" class=\"dataframe\">\n",
       "  <thead>\n",
       "    <tr style=\"text-align: right;\">\n",
       "      <th></th>\n",
       "      <th>beer_name</th>\n",
       "      <th>brewerys</th>\n",
       "      <th>beer_type</th>\n",
       "      <th>alcohol_volume</th>\n",
       "      <th>ingredientes</th>\n",
       "      <th>is_active</th>\n",
       "      <th>is_sazonal</th>\n",
       "      <th>rec_temperature</th>\n",
       "      <th>rec_glass</th>\n",
       "      <th>description</th>\n",
       "      <th>average_rating</th>\n",
       "      <th>smelling_rating</th>\n",
       "      <th>Appearance_rating</th>\n",
       "      <th>flavor_rating</th>\n",
       "      <th>Sensation_rating</th>\n",
       "      <th>ensemble_rating</th>\n",
       "      <th>number_ratings</th>\n",
       "      <th>country</th>\n",
       "    </tr>\n",
       "  </thead>\n",
       "  <tbody>\n",
       "    <tr>\n",
       "      <th>1</th>\n",
       "      <td>ACS Beer Citrus IPA</td>\n",
       "      <td>ACS Beer</td>\n",
       "      <td>Session IPA</td>\n",
       "      <td>4.8% ABV</td>\n",
       "      <td>NaN</td>\n",
       "      <td>SIM</td>\n",
       "      <td>Não é sazonal</td>\n",
       "      <td>NaN</td>\n",
       "      <td>NaN</td>\n",
       "      <td>\\nA receita da ACS Beer Citrus segue o estilo ...</td>\n",
       "      <td>3.6</td>\n",
       "      <td>7/10</td>\n",
       "      <td>4/5</td>\n",
       "      <td>14/20</td>\n",
       "      <td>4/5</td>\n",
       "      <td>7/10</td>\n",
       "      <td>1</td>\n",
       "      <td>brasil</td>\n",
       "    </tr>\n",
       "    <tr>\n",
       "      <th>8</th>\n",
       "      <td>Zyma Extra Special Bitter</td>\n",
       "      <td>Zyma Artesanal</td>\n",
       "      <td>Extra Special Bitter/English Pale Ale</td>\n",
       "      <td>5.2% ABV</td>\n",
       "      <td>Água, malte, lúpulo e levedura.</td>\n",
       "      <td>SIM</td>\n",
       "      <td>Não é sazonal</td>\n",
       "      <td>5-7 °C</td>\n",
       "      <td>Pint</td>\n",
       "      <td>\\nPale Ale Inglesa, puro malte, Extra Special ...</td>\n",
       "      <td>2.3</td>\n",
       "      <td>4/10</td>\n",
       "      <td>3/5</td>\n",
       "      <td>10/20</td>\n",
       "      <td>2/5</td>\n",
       "      <td>4/10</td>\n",
       "      <td>1</td>\n",
       "      <td>brasil</td>\n",
       "    </tr>\n",
       "    <tr>\n",
       "      <th>11</th>\n",
       "      <td>Hoffen Bier Redmoon</td>\n",
       "      <td>Cervejaria Hoffen</td>\n",
       "      <td>Amber Lager</td>\n",
       "      <td>7.4% ABV</td>\n",
       "      <td>NaN</td>\n",
       "      <td>SIM</td>\n",
       "      <td>Não é sazonal</td>\n",
       "      <td>8-12 °C</td>\n",
       "      <td>Lager (Chope)</td>\n",
       "      <td>\\nCerveja Red Lager</td>\n",
       "      <td>3.4</td>\n",
       "      <td>7/10</td>\n",
       "      <td>4/5</td>\n",
       "      <td>13/20</td>\n",
       "      <td>3/5</td>\n",
       "      <td>7/10</td>\n",
       "      <td>10</td>\n",
       "      <td>brasil</td>\n",
       "    </tr>\n",
       "    <tr>\n",
       "      <th>12</th>\n",
       "      <td>Barbante Weiss</td>\n",
       "      <td>Academia Barbante de Cerveja</td>\n",
       "      <td>German Weizen</td>\n",
       "      <td>5.1% ABV</td>\n",
       "      <td>NaN</td>\n",
       "      <td>SIM</td>\n",
       "      <td>Não é sazonal</td>\n",
       "      <td>8-12 °C</td>\n",
       "      <td>Weizen</td>\n",
       "      <td>\\nNão disponível.\\n</td>\n",
       "      <td>2.9</td>\n",
       "      <td>6/10</td>\n",
       "      <td>3/5</td>\n",
       "      <td>11/20</td>\n",
       "      <td>3/5</td>\n",
       "      <td>6/10</td>\n",
       "      <td>1</td>\n",
       "      <td>brasil</td>\n",
       "    </tr>\n",
       "    <tr>\n",
       "      <th>13</th>\n",
       "      <td>Hoffen Weiss Maracujá</td>\n",
       "      <td>Cervejaria Hoffen</td>\n",
       "      <td>German Weizen</td>\n",
       "      <td>5.4% ABV</td>\n",
       "      <td>NaN</td>\n",
       "      <td>SIM</td>\n",
       "      <td>Não é sazonal</td>\n",
       "      <td>NaN</td>\n",
       "      <td>NaN</td>\n",
       "      <td>\\nA Cervejaria Hoffen desenvolveu um rótulo em...</td>\n",
       "      <td>3.7</td>\n",
       "      <td>7/10</td>\n",
       "      <td>5/5</td>\n",
       "      <td>14/20</td>\n",
       "      <td>4/5</td>\n",
       "      <td>7/10</td>\n",
       "      <td>1</td>\n",
       "      <td>brasil</td>\n",
       "    </tr>\n",
       "  </tbody>\n",
       "</table>\n",
       "</div>"
      ],
      "text/plain": [
       "                    beer_name                      brewerys  \\\n",
       "1         ACS Beer Citrus IPA                      ACS Beer   \n",
       "8   Zyma Extra Special Bitter                Zyma Artesanal   \n",
       "11        Hoffen Bier Redmoon             Cervejaria Hoffen   \n",
       "12             Barbante Weiss  Academia Barbante de Cerveja   \n",
       "13      Hoffen Weiss Maracujá             Cervejaria Hoffen   \n",
       "\n",
       "                                beer_type alcohol_volume  \\\n",
       "1                             Session IPA       4.8% ABV   \n",
       "8   Extra Special Bitter/English Pale Ale       5.2% ABV   \n",
       "11                            Amber Lager       7.4% ABV   \n",
       "12                          German Weizen       5.1% ABV   \n",
       "13                          German Weizen       5.4% ABV   \n",
       "\n",
       "                       ingredientes is_active     is_sazonal rec_temperature  \\\n",
       "1                               NaN       SIM  Não é sazonal             NaN   \n",
       "8   Água, malte, lúpulo e levedura.       SIM  Não é sazonal          5-7 °C   \n",
       "11                              NaN       SIM  Não é sazonal         8-12 °C   \n",
       "12                              NaN       SIM  Não é sazonal         8-12 °C   \n",
       "13                              NaN       SIM  Não é sazonal             NaN   \n",
       "\n",
       "        rec_glass                                        description  \\\n",
       "1             NaN  \\nA receita da ACS Beer Citrus segue o estilo ...   \n",
       "8            Pint  \\nPale Ale Inglesa, puro malte, Extra Special ...   \n",
       "11  Lager (Chope)                                \\nCerveja Red Lager   \n",
       "12         Weizen                                \\nNão disponível.\\n   \n",
       "13            NaN  \\nA Cervejaria Hoffen desenvolveu um rótulo em...   \n",
       "\n",
       "    average_rating smelling_rating Appearance_rating flavor_rating  \\\n",
       "1              3.6            7/10               4/5         14/20   \n",
       "8              2.3            4/10               3/5         10/20   \n",
       "11             3.4            7/10               4/5         13/20   \n",
       "12             2.9            6/10               3/5         11/20   \n",
       "13             3.7            7/10               5/5         14/20   \n",
       "\n",
       "   Sensation_rating ensemble_rating  number_ratings country  \n",
       "1               4/5            7/10               1  brasil  \n",
       "8               2/5            4/10               1  brasil  \n",
       "11              3/5            7/10              10  brasil  \n",
       "12              3/5            6/10               1  brasil  \n",
       "13              4/5            7/10               1  brasil  "
      ]
     },
     "execution_count": 34,
     "metadata": {},
     "output_type": "execute_result"
    }
   ],
   "source": [
    "df_beers_brazil.head()"
   ]
  },
  {
   "cell_type": "code",
   "execution_count": 36,
   "metadata": {},
   "outputs": [
    {
     "data": {
      "text/plain": [
       "4990"
      ]
     },
     "execution_count": 36,
     "metadata": {},
     "output_type": "execute_result"
    }
   ],
   "source": [
    "df_beers_brazil.beer_type.count()"
   ]
  },
  {
   "cell_type": "code",
   "execution_count": 37,
   "metadata": {},
   "outputs": [
    {
     "data": {
      "text/plain": [
       "<AxesSubplot:xlabel='beer_type'>"
      ]
     },
     "execution_count": 37,
     "metadata": {},
     "output_type": "execute_result"
    },
    {
     "data": {
      "image/png": "[encoded data removed]",
      "text/plain": [
       "<Figure size 1080x720 with 1 Axes>"
      ]
     },
     "metadata": {
      "needs_background": "light"
     },
     "output_type": "display_data"
    }
   ],
   "source": [
    "df_beers_brazil.groupby(\"beer_type\")[\"beer_name\"].count().plot.bar(figsize=(15,10))"
   ]
  },
  {
   "cell_type": "code",
   "execution_count": 38,
   "metadata": {},
   "outputs": [
    {
     "data": {
      "text/plain": [
       "53.655913978494624"
      ]
     },
     "execution_count": 38,
     "metadata": {},
     "output_type": "execute_result"
    }
   ],
   "source": [
    "df_beers_brazil.groupby(\"beer_type\")[\"beer_name\"].count().mean()"
   ]
  },
  {
   "cell_type": "markdown",
   "metadata": {},
   "source": [
    "## Analise reviews de cervejas brasileiras"
   ]
  },
  {
   "cell_type": "code",
   "execution_count": 39,
   "metadata": {},
   "outputs": [
    {
     "name": "stdout",
     "output_type": "stream",
     "text": [
      "<class 'pandas.core.frame.DataFrame'>\n",
      "RangeIndex: 21377 entries, 0 to 21376\n",
      "Data columns (total 9 columns):\n",
      " #   Column             Non-Null Count  Dtype  \n",
      "---  ------             --------------  -----  \n",
      " 0   user_name          21377 non-null  object \n",
      " 1   beer_name          21377 non-null  object \n",
      " 2   review_commentary  15748 non-null  object \n",
      " 3   overall            21377 non-null  float64\n",
      " 4   aroma              21377 non-null  object \n",
      " 5   appearance         21377 non-null  object \n",
      " 6   flavor             21377 non-null  object \n",
      " 7   sensation          21377 non-null  object \n",
      " 8   ensemble           21377 non-null  object \n",
      "dtypes: float64(1), object(8)\n",
      "memory usage: 1.5+ MB\n"
     ]
    }
   ],
   "source": [
    "df_reviews.info()"
   ]
  },
  {
   "cell_type": "code",
   "execution_count": 40,
   "metadata": {},
   "outputs": [
    {
     "data": {
      "text/html": [
       "<div>\n",
       "<style scoped>\n",
       "    .dataframe tbody tr th:only-of-type {\n",
       "        vertical-align: middle;\n",
       "    }\n",
       "\n",
       "    .dataframe tbody tr th {\n",
       "        vertical-align: top;\n",
       "    }\n",
       "\n",
       "    .dataframe thead th {\n",
       "        text-align: right;\n",
       "    }\n",
       "</style>\n",
       "<table border=\"1\" class=\"dataframe\">\n",
       "  <thead>\n",
       "    <tr style=\"text-align: right;\">\n",
       "      <th></th>\n",
       "      <th>user_name</th>\n",
       "      <th>beer_name</th>\n",
       "      <th>review_commentary</th>\n",
       "      <th>overall</th>\n",
       "      <th>aroma</th>\n",
       "      <th>appearance</th>\n",
       "      <th>flavor</th>\n",
       "      <th>sensation</th>\n",
       "      <th>ensemble</th>\n",
       "    </tr>\n",
       "  </thead>\n",
       "  <tbody>\n",
       "    <tr>\n",
       "      <th>0</th>\n",
       "      <td>Fabio Vieira</td>\n",
       "      <td>Trilha Pão de Mel</td>\n",
       "      <td>Temperatura de degustação: Dez graus Celsius.</td>\n",
       "      <td>4.8</td>\n",
       "      <td>10/10</td>\n",
       "      <td>3/5</td>\n",
       "      <td>20/20</td>\n",
       "      <td>5/5</td>\n",
       "      <td>10/10</td>\n",
       "    </tr>\n",
       "    <tr>\n",
       "      <th>1</th>\n",
       "      <td>Daniel Ferreira de Paiva</td>\n",
       "      <td>Trilha Pão de Mel</td>\n",
       "      <td>Baixa formação de espuma.</td>\n",
       "      <td>4.6</td>\n",
       "      <td>10/10</td>\n",
       "      <td>4/5</td>\n",
       "      <td>18/20</td>\n",
       "      <td>5/5</td>\n",
       "      <td>9/10</td>\n",
       "    </tr>\n",
       "    <tr>\n",
       "      <th>2</th>\n",
       "      <td>Eduardo Guimarães Insta @cervascomedu</td>\n",
       "      <td>Trilha Pão de Mel</td>\n",
       "      <td>Servida na taça ISO apresentou coloração preta...</td>\n",
       "      <td>5.0</td>\n",
       "      <td>10/10</td>\n",
       "      <td>5/5</td>\n",
       "      <td>20/20</td>\n",
       "      <td>5/5</td>\n",
       "      <td>10/10</td>\n",
       "    </tr>\n",
       "    <tr>\n",
       "      <th>3</th>\n",
       "      <td>Francisco Lima</td>\n",
       "      <td>Trilha Pão de Mel</td>\n",
       "      <td>Cor preta profunda com um colarinho fina de co...</td>\n",
       "      <td>4.5</td>\n",
       "      <td>9/10</td>\n",
       "      <td>4/5</td>\n",
       "      <td>18/20</td>\n",
       "      <td>5/5</td>\n",
       "      <td>9/10</td>\n",
       "    </tr>\n",
       "    <tr>\n",
       "      <th>4</th>\n",
       "      <td>alberto basso</td>\n",
       "      <td>Creedence Brasil WeissBier 18 Anos</td>\n",
       "      <td>Não pense em uma simples cerveja de trigo! Alé...</td>\n",
       "      <td>4.8</td>\n",
       "      <td>10/10</td>\n",
       "      <td>4/5</td>\n",
       "      <td>19/20</td>\n",
       "      <td>5/5</td>\n",
       "      <td>10/10</td>\n",
       "    </tr>\n",
       "    <tr>\n",
       "      <th>5</th>\n",
       "      <td>Anderson Cesari</td>\n",
       "      <td>Creedence Brasil WeissBier 18 Anos</td>\n",
       "      <td>Muitas vezes eu me pergunto de onde saem as re...</td>\n",
       "      <td>4.1</td>\n",
       "      <td>8/10</td>\n",
       "      <td>4/5</td>\n",
       "      <td>17/20</td>\n",
       "      <td>4/5</td>\n",
       "      <td>8/10</td>\n",
       "    </tr>\n",
       "    <tr>\n",
       "      <th>6</th>\n",
       "      <td>LUCIANO WENGRZINSKI</td>\n",
       "      <td>Creedence Brasil WeissBier 18 Anos</td>\n",
       "      <td>Uma cerveja do estilo Weiss com aromas únicos,...</td>\n",
       "      <td>4.8</td>\n",
       "      <td>10/10</td>\n",
       "      <td>5/5</td>\n",
       "      <td>18/20</td>\n",
       "      <td>5/5</td>\n",
       "      <td>10/10</td>\n",
       "    </tr>\n",
       "    <tr>\n",
       "      <th>7</th>\n",
       "      <td>Rogério Franzini</td>\n",
       "      <td>Creedence Brasil WeissBier 18 Anos</td>\n",
       "      <td>\"A VERDADEIRA CERVEJA DO ROCKNROLL'</td>\n",
       "      <td>4.7</td>\n",
       "      <td>10/10</td>\n",
       "      <td>4/5</td>\n",
       "      <td>18/20</td>\n",
       "      <td>5/5</td>\n",
       "      <td>10/10</td>\n",
       "    </tr>\n",
       "    <tr>\n",
       "      <th>8</th>\n",
       "      <td>Marco Dias</td>\n",
       "      <td>Nordeste Breakfast Stout</td>\n",
       "      <td>- Aroma maltado tostado, café, biscoito de cho...</td>\n",
       "      <td>4.7</td>\n",
       "      <td>9/10</td>\n",
       "      <td>5/5</td>\n",
       "      <td>18/20</td>\n",
       "      <td>5/5</td>\n",
       "      <td>10/10</td>\n",
       "    </tr>\n",
       "    <tr>\n",
       "      <th>9</th>\n",
       "      <td>Fabio Vieira</td>\n",
       "      <td>Nordeste Breakfast Stout</td>\n",
       "      <td>Temperatura de degustação: Dez graus Celsius.</td>\n",
       "      <td>4.6</td>\n",
       "      <td>9/10</td>\n",
       "      <td>5/5</td>\n",
       "      <td>19/20</td>\n",
       "      <td>4/5</td>\n",
       "      <td>9/10</td>\n",
       "    </tr>\n",
       "  </tbody>\n",
       "</table>\n",
       "</div>"
      ],
      "text/plain": [
       "                               user_name                           beer_name  \\\n",
       "0                           Fabio Vieira                   Trilha Pão de Mel   \n",
       "1               Daniel Ferreira de Paiva                   Trilha Pão de Mel   \n",
       "2  Eduardo Guimarães Insta @cervascomedu                   Trilha Pão de Mel   \n",
       "3                         Francisco Lima                   Trilha Pão de Mel   \n",
       "4                          alberto basso  Creedence Brasil WeissBier 18 Anos   \n",
       "5                        Anderson Cesari  Creedence Brasil WeissBier 18 Anos   \n",
       "6                    LUCIANO WENGRZINSKI  Creedence Brasil WeissBier 18 Anos   \n",
       "7                       Rogério Franzini  Creedence Brasil WeissBier 18 Anos   \n",
       "8                             Marco Dias            Nordeste Breakfast Stout   \n",
       "9                           Fabio Vieira            Nordeste Breakfast Stout   \n",
       "\n",
       "                                   review_commentary  overall  aroma  \\\n",
       "0      Temperatura de degustação: Dez graus Celsius.      4.8  10/10   \n",
       "1                          Baixa formação de espuma.      4.6  10/10   \n",
       "2  Servida na taça ISO apresentou coloração preta...      5.0  10/10   \n",
       "3  Cor preta profunda com um colarinho fina de co...      4.5   9/10   \n",
       "4  Não pense em uma simples cerveja de trigo! Alé...      4.8  10/10   \n",
       "5  Muitas vezes eu me pergunto de onde saem as re...      4.1   8/10   \n",
       "6  Uma cerveja do estilo Weiss com aromas únicos,...      4.8  10/10   \n",
       "7                \"A VERDADEIRA CERVEJA DO ROCKNROLL'      4.7  10/10   \n",
       "8  - Aroma maltado tostado, café, biscoito de cho...      4.7   9/10   \n",
       "9      Temperatura de degustação: Dez graus Celsius.      4.6   9/10   \n",
       "\n",
       "  appearance flavor sensation ensemble  \n",
       "0        3/5  20/20       5/5    10/10  \n",
       "1        4/5  18/20       5/5     9/10  \n",
       "2        5/5  20/20       5/5    10/10  \n",
       "3        4/5  18/20       5/5     9/10  \n",
       "4        4/5  19/20       5/5    10/10  \n",
       "5        4/5  17/20       4/5     8/10  \n",
       "6        5/5  18/20       5/5    10/10  \n",
       "7        4/5  18/20       5/5    10/10  \n",
       "8        5/5  18/20       5/5    10/10  \n",
       "9        5/5  19/20       4/5     9/10  "
      ]
     },
     "execution_count": 40,
     "metadata": {},
     "output_type": "execute_result"
    }
   ],
   "source": [
    "df_reviews.head(10)"
   ]
  },
  {
   "cell_type": "code",
   "execution_count": 48,
   "metadata": {},
   "outputs": [
    {
     "data": {
      "text/plain": [
       "18.80123131046614"
      ]
     },
     "execution_count": 48,
     "metadata": {},
     "output_type": "execute_result"
    }
   ],
   "source": [
    "df_reviews.user_name.value_counts().mean()"
   ]
  },
  {
   "cell_type": "code",
   "execution_count": 47,
   "metadata": {},
   "outputs": [
    {
     "data": {
      "text/plain": [
       "1137"
      ]
     },
     "execution_count": 47,
     "metadata": {},
     "output_type": "execute_result"
    }
   ],
   "source": [
    "len(df_reviews.groupby(\"user_name\"))"
   ]
  },
  {
   "cell_type": "code",
   "execution_count": 54,
   "metadata": {},
   "outputs": [
    {
     "data": {
      "text/plain": [
       "21377"
      ]
     },
     "execution_count": 54,
     "metadata": {},
     "output_type": "execute_result"
    }
   ],
   "source": [
    "len(df_reviews)"
   ]
  },
  {
   "cell_type": "code",
   "execution_count": 53,
   "metadata": {},
   "outputs": [
    {
     "data": {
      "text/plain": [
       "18.80123131046614"
      ]
     },
     "execution_count": 53,
     "metadata": {},
     "output_type": "execute_result"
    }
   ],
   "source": [
    "len(df_reviews)/len(df_reviews.groupby(\"user_name\"))"
   ]
  },
  {
   "cell_type": "code",
   "execution_count": 58,
   "metadata": {},
   "outputs": [
    {
     "data": {
      "text/html": [
       "<div>\n",
       "<style scoped>\n",
       "    .dataframe tbody tr th:only-of-type {\n",
       "        vertical-align: middle;\n",
       "    }\n",
       "\n",
       "    .dataframe tbody tr th {\n",
       "        vertical-align: top;\n",
       "    }\n",
       "\n",
       "    .dataframe thead th {\n",
       "        text-align: right;\n",
       "    }\n",
       "</style>\n",
       "<table border=\"1\" class=\"dataframe\">\n",
       "  <thead>\n",
       "    <tr style=\"text-align: right;\">\n",
       "      <th></th>\n",
       "      <th>beer_name</th>\n",
       "      <th>brewerys</th>\n",
       "      <th>beer_type</th>\n",
       "      <th>alcohol_volume</th>\n",
       "      <th>ingredientes</th>\n",
       "      <th>is_active</th>\n",
       "      <th>is_sazonal</th>\n",
       "      <th>rec_temperature</th>\n",
       "      <th>rec_glass</th>\n",
       "      <th>description</th>\n",
       "      <th>average_rating</th>\n",
       "      <th>smelling_rating</th>\n",
       "      <th>Appearance_rating</th>\n",
       "      <th>flavor_rating</th>\n",
       "      <th>Sensation_rating</th>\n",
       "      <th>ensemble_rating</th>\n",
       "      <th>number_ratings</th>\n",
       "      <th>country</th>\n",
       "    </tr>\n",
       "  </thead>\n",
       "  <tbody>\n",
       "    <tr>\n",
       "      <th>292</th>\n",
       "      <td>Creedence Brasil WeissBier 18 Anos</td>\n",
       "      <td>Wensky Beer</td>\n",
       "      <td>German Weizen</td>\n",
       "      <td>5.5% ABV</td>\n",
       "      <td>ÁGUA, MALTE DE CEVADA, MALTE DE TRIGO LÚPULO E...</td>\n",
       "      <td>SIM</td>\n",
       "      <td>Comemorativa</td>\n",
       "      <td>5-7 °C</td>\n",
       "      <td>Weizen</td>\n",
       "      <td>\\n</td>\n",
       "      <td>4.6</td>\n",
       "      <td>10/10</td>\n",
       "      <td>4/5</td>\n",
       "      <td>18/20</td>\n",
       "      <td>5/5</td>\n",
       "      <td>10/10</td>\n",
       "      <td>4</td>\n",
       "      <td>brasil</td>\n",
       "    </tr>\n",
       "  </tbody>\n",
       "</table>\n",
       "</div>"
      ],
      "text/plain": [
       "                              beer_name     brewerys      beer_type  \\\n",
       "292  Creedence Brasil WeissBier 18 Anos  Wensky Beer  German Weizen   \n",
       "\n",
       "    alcohol_volume                                       ingredientes  \\\n",
       "292       5.5% ABV  ÁGUA, MALTE DE CEVADA, MALTE DE TRIGO LÚPULO E...   \n",
       "\n",
       "    is_active    is_sazonal rec_temperature rec_glass description  \\\n",
       "292       SIM  Comemorativa          5-7 °C    Weizen          \\n   \n",
       "\n",
       "     average_rating smelling_rating Appearance_rating flavor_rating  \\\n",
       "292             4.6           10/10               4/5         18/20   \n",
       "\n",
       "    Sensation_rating ensemble_rating  number_ratings country  \n",
       "292              5/5           10/10               4  brasil  "
      ]
     },
     "execution_count": 58,
     "metadata": {},
     "output_type": "execute_result"
    }
   ],
   "source": [
    "df_beers_brazil[df_beers_brazil.beer_name == \"Creedence Brasil WeissBier 18 Anos\"]"
   ]
  },
  {
   "cell_type": "code",
   "execution_count": 59,
   "metadata": {},
   "outputs": [
    {
     "data": {
      "text/html": [
       "<div>\n",
       "<style scoped>\n",
       "    .dataframe tbody tr th:only-of-type {\n",
       "        vertical-align: middle;\n",
       "    }\n",
       "\n",
       "    .dataframe tbody tr th {\n",
       "        vertical-align: top;\n",
       "    }\n",
       "\n",
       "    .dataframe thead th {\n",
       "        text-align: right;\n",
       "    }\n",
       "</style>\n",
       "<table border=\"1\" class=\"dataframe\">\n",
       "  <thead>\n",
       "    <tr style=\"text-align: right;\">\n",
       "      <th></th>\n",
       "      <th>beer_name</th>\n",
       "      <th>brewerys</th>\n",
       "      <th>beer_type</th>\n",
       "      <th>alcohol_volume</th>\n",
       "      <th>ingredientes</th>\n",
       "      <th>is_active</th>\n",
       "      <th>is_sazonal</th>\n",
       "      <th>rec_temperature</th>\n",
       "      <th>rec_glass</th>\n",
       "      <th>description</th>\n",
       "      <th>average_rating</th>\n",
       "      <th>smelling_rating</th>\n",
       "      <th>Appearance_rating</th>\n",
       "      <th>flavor_rating</th>\n",
       "      <th>Sensation_rating</th>\n",
       "      <th>ensemble_rating</th>\n",
       "      <th>number_ratings</th>\n",
       "      <th>country</th>\n",
       "    </tr>\n",
       "  </thead>\n",
       "  <tbody>\n",
       "    <tr>\n",
       "      <th>6843</th>\n",
       "      <td>Nordeste Breakfast Stout</td>\n",
       "      <td>Cervejaria MinduBier</td>\n",
       "      <td>Russian Imperial Stout</td>\n",
       "      <td>12.9% ABV</td>\n",
       "      <td>NaN</td>\n",
       "      <td>SIM</td>\n",
       "      <td>Colaborativa</td>\n",
       "      <td>8-12 °C</td>\n",
       "      <td>Conhaque</td>\n",
       "      <td>\\nImperial Stout com melado de cana e café mat...</td>\n",
       "      <td>4.5</td>\n",
       "      <td>9/10</td>\n",
       "      <td>5/5</td>\n",
       "      <td>18/20</td>\n",
       "      <td>5/5</td>\n",
       "      <td>9/10</td>\n",
       "      <td>6</td>\n",
       "      <td>brasil</td>\n",
       "    </tr>\n",
       "  </tbody>\n",
       "</table>\n",
       "</div>"
      ],
      "text/plain": [
       "                     beer_name              brewerys               beer_type  \\\n",
       "6843  Nordeste Breakfast Stout  Cervejaria MinduBier  Russian Imperial Stout   \n",
       "\n",
       "     alcohol_volume ingredientes is_active    is_sazonal rec_temperature  \\\n",
       "6843      12.9% ABV          NaN       SIM  Colaborativa         8-12 °C   \n",
       "\n",
       "     rec_glass                                        description  \\\n",
       "6843  Conhaque  \\nImperial Stout com melado de cana e café mat...   \n",
       "\n",
       "      average_rating smelling_rating Appearance_rating flavor_rating  \\\n",
       "6843             4.5            9/10               5/5         18/20   \n",
       "\n",
       "     Sensation_rating ensemble_rating  number_ratings country  \n",
       "6843              5/5            9/10               6  brasil  "
      ]
     },
     "execution_count": 59,
     "metadata": {},
     "output_type": "execute_result"
    }
   ],
   "source": [
    "df_beers_brazil[df_beers_brazil.beer_name == \"Nordeste Breakfast Stout\"]"
   ]
  },
  {
   "cell_type": "code",
   "execution_count": 60,
   "metadata": {},
   "outputs": [
    {
     "data": {
      "text/html": [
       "<div>\n",
       "<style scoped>\n",
       "    .dataframe tbody tr th:only-of-type {\n",
       "        vertical-align: middle;\n",
       "    }\n",
       "\n",
       "    .dataframe tbody tr th {\n",
       "        vertical-align: top;\n",
       "    }\n",
       "\n",
       "    .dataframe thead th {\n",
       "        text-align: right;\n",
       "    }\n",
       "</style>\n",
       "<table border=\"1\" class=\"dataframe\">\n",
       "  <thead>\n",
       "    <tr style=\"text-align: right;\">\n",
       "      <th></th>\n",
       "      <th>beer_name</th>\n",
       "      <th>brewerys</th>\n",
       "      <th>beer_type</th>\n",
       "      <th>alcohol_volume</th>\n",
       "      <th>ingredientes</th>\n",
       "      <th>is_active</th>\n",
       "      <th>is_sazonal</th>\n",
       "      <th>rec_temperature</th>\n",
       "      <th>rec_glass</th>\n",
       "      <th>description</th>\n",
       "      <th>average_rating</th>\n",
       "      <th>smelling_rating</th>\n",
       "      <th>Appearance_rating</th>\n",
       "      <th>flavor_rating</th>\n",
       "      <th>Sensation_rating</th>\n",
       "      <th>ensemble_rating</th>\n",
       "      <th>number_ratings</th>\n",
       "      <th>country</th>\n",
       "    </tr>\n",
       "  </thead>\n",
       "  <tbody>\n",
       "    <tr>\n",
       "      <th>292</th>\n",
       "      <td>Creedence Brasil WeissBier 18 Anos</td>\n",
       "      <td>Wensky Beer</td>\n",
       "      <td>German Weizen</td>\n",
       "      <td>5.5% ABV</td>\n",
       "      <td>ÁGUA, MALTE DE CEVADA, MALTE DE TRIGO LÚPULO E...</td>\n",
       "      <td>SIM</td>\n",
       "      <td>Comemorativa</td>\n",
       "      <td>5-7 °C</td>\n",
       "      <td>Weizen</td>\n",
       "      <td>\\n</td>\n",
       "      <td>4.6</td>\n",
       "      <td>10/10</td>\n",
       "      <td>4/5</td>\n",
       "      <td>18/20</td>\n",
       "      <td>5/5</td>\n",
       "      <td>10/10</td>\n",
       "      <td>4</td>\n",
       "      <td>brasil</td>\n",
       "    </tr>\n",
       "  </tbody>\n",
       "</table>\n",
       "</div>"
      ],
      "text/plain": [
       "                              beer_name     brewerys      beer_type  \\\n",
       "292  Creedence Brasil WeissBier 18 Anos  Wensky Beer  German Weizen   \n",
       "\n",
       "    alcohol_volume                                       ingredientes  \\\n",
       "292       5.5% ABV  ÁGUA, MALTE DE CEVADA, MALTE DE TRIGO LÚPULO E...   \n",
       "\n",
       "    is_active    is_sazonal rec_temperature rec_glass description  \\\n",
       "292       SIM  Comemorativa          5-7 °C    Weizen          \\n   \n",
       "\n",
       "     average_rating smelling_rating Appearance_rating flavor_rating  \\\n",
       "292             4.6           10/10               4/5         18/20   \n",
       "\n",
       "    Sensation_rating ensemble_rating  number_ratings country  \n",
       "292              5/5           10/10               4  brasil  "
      ]
     },
     "execution_count": 60,
     "metadata": {},
     "output_type": "execute_result"
    }
   ],
   "source": [
    "df_beers_brazil[df_beers_brazil.beer_name == \"Creedence Brasil WeissBier 18 Anos\"]"
   ]
  }
 ],
 "metadata": {
  "kernelspec": {
   "display_name": "Python 3",
   "language": "python",
   "name": "python3"
  },
  "language_info": {
   "codemirror_mode": {
    "name": "ipython",
    "version": 3
   },
   "file_extension": ".py",
   "mimetype": "text/x-python",
   "name": "python",
   "nbconvert_exporter": "python",
   "pygments_lexer": "ipython3",
   "version": "3.8.10"
  }
 },
 "nbformat": 4,
 "nbformat_minor": 4
}
